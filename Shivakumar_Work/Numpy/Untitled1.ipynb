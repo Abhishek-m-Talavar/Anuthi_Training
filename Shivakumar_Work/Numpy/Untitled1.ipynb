{
 "cells": [
  {
   "cell_type": "code",
   "execution_count": 1,
   "id": "fb3c9f30-3d2f-49a5-8d64-1a8fa2908c93",
   "metadata": {},
   "outputs": [],
   "source": [
    "import numpy as np"
   ]
  },
  {
   "cell_type": "code",
   "execution_count": 2,
   "id": "cfc812fb-4713-4cf3-a891-83914f6b3719",
   "metadata": {},
   "outputs": [],
   "source": [
    "myarr = ([3,37,4,5], np.int64)"
   ]
  },
  {
   "cell_type": "code",
   "execution_count": null,
   "id": "1e902034-38ef-4cfb-b3aa-f0292a72da80",
   "metadata": {},
   "outputs": [],
   "source": []
  }
 ],
 "metadata": {
  "kernelspec": {
   "display_name": "Python 3 (ipykernel)",
   "language": "python",
   "name": "python3"
  },
  "language_info": {
   "codemirror_mode": {
    "name": "ipython",
    "version": 3
   },
   "file_extension": ".py",
   "mimetype": "text/x-python",
   "name": "python",
   "nbconvert_exporter": "python",
   "pygments_lexer": "ipython3",
   "version": "3.13.3"
  }
 },
 "nbformat": 4,
 "nbformat_minor": 5
}
