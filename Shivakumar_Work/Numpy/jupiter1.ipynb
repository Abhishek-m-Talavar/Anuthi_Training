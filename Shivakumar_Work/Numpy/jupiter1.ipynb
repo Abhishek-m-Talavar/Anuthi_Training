{
 "cells": [
  {
   "cell_type": "code",
   "execution_count": 24,
   "id": "fb3c9f30-3d2f-49a5-8d64-1a8fa2908c93",
   "metadata": {},
   "outputs": [
    {
     "data": {
      "text/plain": [
       "(1, 4)"
      ]
     },
     "execution_count": 24,
     "metadata": {},
     "output_type": "execute_result"
    }
   ],
   "source": [
    "import numpy as np\n",
    "myarr = np.array([[3,37,4,5]])\n",
    "myarr[0,1]\n",
    "myarr.shape"
   ]
  },
  {
   "cell_type": "code",
   "execution_count": 25,
   "id": "7a132963-6e47-4d32-8934-f8a388bb2efa",
   "metadata": {},
   "outputs": [],
   "source": [
    "myarr[0,1] = 45"
   ]
  },
  {
   "cell_type": "code",
   "execution_count": 26,
   "id": "37425214-9c03-4768-a97e-66f11b385ea5",
   "metadata": {},
   "outputs": [
    {
     "data": {
      "text/plain": [
       "array([[ 3, 45,  4,  5]])"
      ]
     },
     "execution_count": 26,
     "metadata": {},
     "output_type": "execute_result"
    }
   ],
   "source": [
    "myarr"
   ]
  },
  {
   "cell_type": "code",
   "execution_count": null,
   "id": "f0d165cd-62c8-49d8-9587-c580c2ef7638",
   "metadata": {},
   "outputs": [],
   "source": []
  }
 ],
 "metadata": {
  "kernelspec": {
   "display_name": "Python 3 (ipykernel)",
   "language": "python",
   "name": "python3"
  },
  "language_info": {
   "codemirror_mode": {
    "name": "ipython",
    "version": 3
   },
   "file_extension": ".py",
   "mimetype": "text/x-python",
   "name": "python",
   "nbconvert_exporter": "python",
   "pygments_lexer": "ipython3",
   "version": "3.13.3"
  }
 },
 "nbformat": 4,
 "nbformat_minor": 5
}
